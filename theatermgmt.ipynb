{
 "cells": [
  {
   "cell_type": "code",
   "execution_count": null,
   "metadata": {},
   "outputs": [
    {
     "name": "stdin",
     "output_type": "stream",
     "text": [
      " Enter your name here: aysuhi\n",
      " enter your mobile no here :  8765678\n"
     ]
    },
    {
     "name": "stdout",
     "output_type": "stream",
     "text": [
      " press 1 for normal seats ( cost - 200/-)\n",
      "    press 2 for vip seats (cost - 900/-) \n"
     ]
    },
    {
     "name": "stdin",
     "output_type": "stream",
     "text": [
      " Enter your choice here 1 or 2 :-  1\n",
      " Enter no of seats here :-   201\n"
     ]
    },
    {
     "name": "stdout",
     "output_type": "stream",
     "text": [
      " sorry housefull available setas are  200\n"
     ]
    }
   ],
   "source": [
    "# theater billing mgmt \n",
    "# theater management tool for bill printing \n",
    "total_normal_seats=200\n",
    "total_vip_seats=100\n",
    "price_normal= 300\n",
    "price_vip= 900\n",
    "price_combo=100\n",
    "total_amount=0\n",
    "while True:\n",
    "    name=input(\" Enter your name here:\")\n",
    "    cust_mob=int(input(\" enter your mobile no here : \"))\n",
    "    print(\"\"\" press 1 for normal seats ( cost - 200/-)\n",
    "    press 2 for vip seats (cost - 900/-) \"\"\")\n",
    "    choice=int(input(\" Enter your choice here 1 or 2 :- \"))\n",
    "    seats=int(input(\" Enter no of seats here :-  \"))\n",
    "\n",
    "    if choice== 1:\n",
    "        if seats <=total_normal_seats:\n",
    "            total_amount=seats*price_normal\n",
    "            combo=(input(\" do you want more iteam Popcorn or coldrink price - 100 (Y/N):- \"))\n",
    "            if combo == \"yes\":\n",
    "                 total_amount += price_combo\n",
    "                 total_normal_seats -= seats\n",
    "            else:\n",
    "                 total_normal_seats -= seats\n",
    "        else:\n",
    "            print(\" sorry housefull available setas are \" ,total_normal_seats)\n",
    "            continue \n",
    "\n",
    "    elif choice == 2:\n",
    "        if seats <=total_vip_seats:\n",
    "            total_amount=seats*price_vip\n",
    "            combo=(input(\" do you want more iteam Popcorn or coldrink price - 100 (Y/N):- \"))\n",
    "            if combo == \"yes\":\n",
    "                 total_amount=seats*price_combo\n",
    "                 total_vip_seats -= seats\n",
    "            else:\n",
    "                 total_amount=seats*price_vip\n",
    "                 total_vip_seats -= seats\n",
    "        else:\n",
    "            print(\" sorry housefull available setas are \" ,total_vip_seats)\n",
    "            continue\n",
    "\n",
    "    else:\n",
    "        print(\" invalid choice\")\n",
    "        continue\n",
    "    print(\"#\"*40)\n",
    "    print(\" Custmer's name :- \",name)\n",
    "    print(\" Taken seats :- \",seats)\n",
    "    print(\"Your Bill:- \" ,total_amount)\n",
    "    print(\" Thanks for visit here\")\n",
    "    print(\"#\"*40)\n",
    "    print(\"#\"*40)\n",
    "    next_p=(input(\" enter next person name here ? :- (y/n) \"))\n",
    "    if next_p == \"no\":\n",
    "        break\n",
    "              \n"
   ]
  },
  {
   "cell_type": "code",
   "execution_count": null,
   "metadata": {},
   "outputs": [],
   "source": []
  }
 ],
 "metadata": {
  "kernelspec": {
   "display_name": "Python 3 (ipykernel)",
   "language": "python",
   "name": "python3"
  },
  "language_info": {
   "codemirror_mode": {
    "name": "ipython",
    "version": 3
   },
   "file_extension": ".py",
   "mimetype": "text/x-python",
   "name": "python",
   "nbconvert_exporter": "python",
   "pygments_lexer": "ipython3",
   "version": "3.11.5"
  }
 },
 "nbformat": 4,
 "nbformat_minor": 4
}
