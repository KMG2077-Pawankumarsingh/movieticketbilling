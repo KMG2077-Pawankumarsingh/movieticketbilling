{
 "cells": [
  {
   "cell_type": "code",
   "execution_count": 1,
   "metadata": {},
   "outputs": [
    {
     "name": "stdin",
     "output_type": "stream",
     "text": [
      " Enter your name here: PAWAN\n",
      " enter your mobile no here :  897987\n"
     ]
    },
    {
     "name": "stdout",
     "output_type": "stream",
     "text": [
      " press 1 for normal seats ( cost - 200/-)\n",
      "    press 2 for vip seats (cost - 900/-) \n"
     ]
    },
    {
     "name": "stdin",
     "output_type": "stream",
     "text": [
      " Enter your choice here 1 or 2 :-  2\n",
      " Enter no of seats here :-   100\n",
      " do you want more iteam Popcorn or coldrink price - 100 (Y/N):-  YES\n"
     ]
    },
    {
     "name": "stdout",
     "output_type": "stream",
     "text": [
      "########################################\n",
      " Custmer's name :-  PAWAN\n",
      " Taken seats :-  100\n",
      "Your Bill:-  90000\n",
      " Thanks for visit here\n",
      "########################################\n",
      "########################################\n"
     ]
    },
    {
     "name": "stdin",
     "output_type": "stream",
     "text": [
      " enter next person name here ? :- (y/n)  YES\n",
      " Enter your name here: JKHI\n",
      " enter your mobile no here :  821798734\n"
     ]
    },
    {
     "name": "stdout",
     "output_type": "stream",
     "text": [
      " press 1 for normal seats ( cost - 200/-)\n",
      "    press 2 for vip seats (cost - 900/-) \n"
     ]
    },
    {
     "name": "stdin",
     "output_type": "stream",
     "text": [
      " Enter your choice here 1 or 2 :-  2\n",
      " Enter no of seats here :-   1\n"
     ]
    },
    {
     "name": "stdout",
     "output_type": "stream",
     "text": [
      " sorry housefull available setas are  0\n"
     ]
    },
    {
     "name": "stdin",
     "output_type": "stream",
     "text": [
      " Enter your name here: NO\n",
      " enter your mobile no here :  IJRIUR\n"
     ]
    },
    {
     "ename": "ValueError",
     "evalue": "invalid literal for int() with base 10: 'IJRIUR'",
     "output_type": "error",
     "traceback": [
      "\u001b[1;31m---------------------------------------------------------------------------\u001b[0m",
      "\u001b[1;31mValueError\u001b[0m                                Traceback (most recent call last)",
      "Cell \u001b[1;32mIn[1], line 11\u001b[0m\n\u001b[0;32m      9\u001b[0m \u001b[38;5;28;01mwhile\u001b[39;00m \u001b[38;5;28;01mTrue\u001b[39;00m:\n\u001b[0;32m     10\u001b[0m     name\u001b[38;5;241m=\u001b[39m\u001b[38;5;28minput\u001b[39m(\u001b[38;5;124m\"\u001b[39m\u001b[38;5;124m Enter your name here:\u001b[39m\u001b[38;5;124m\"\u001b[39m)\n\u001b[1;32m---> 11\u001b[0m     cust_mob\u001b[38;5;241m=\u001b[39m\u001b[38;5;28;43mint\u001b[39;49m\u001b[43m(\u001b[49m\u001b[38;5;28;43minput\u001b[39;49m\u001b[43m(\u001b[49m\u001b[38;5;124;43m\"\u001b[39;49m\u001b[38;5;124;43m enter your mobile no here : \u001b[39;49m\u001b[38;5;124;43m\"\u001b[39;49m\u001b[43m)\u001b[49m\u001b[43m)\u001b[49m\n\u001b[0;32m     12\u001b[0m     \u001b[38;5;28mprint\u001b[39m(\u001b[38;5;124m\"\"\"\u001b[39m\u001b[38;5;124m press 1 for normal seats ( cost - 200/-)\u001b[39m\n\u001b[0;32m     13\u001b[0m \u001b[38;5;124m    press 2 for vip seats (cost - 900/-) \u001b[39m\u001b[38;5;124m\"\"\"\u001b[39m)\n\u001b[0;32m     14\u001b[0m     choice\u001b[38;5;241m=\u001b[39m\u001b[38;5;28mint\u001b[39m(\u001b[38;5;28minput\u001b[39m(\u001b[38;5;124m\"\u001b[39m\u001b[38;5;124m Enter your choice here 1 or 2 :- \u001b[39m\u001b[38;5;124m\"\u001b[39m))\n",
      "\u001b[1;31mValueError\u001b[0m: invalid literal for int() with base 10: 'IJRIUR'"
     ]
    }
   ],
   "source": [
    "# theater billing mgmt \n",
    "# theater management tool for bill printing \n",
    "total_normal_seats=200\n",
    "total_vip_seats=100\n",
    "price_normal= 300\n",
    "price_vip= 900\n",
    "price_combo=100\n",
    "total_amount=0\n",
    "while True:\n",
    "    name=input(\" Enter your name here:\")\n",
    "    cust_mob=int(input(\" enter your mobile no here : \"))\n",
    "    print(\"\"\" press 1 for normal seats ( cost - 200/-)\n",
    "    press 2 for vip seats (cost - 900/-) \"\"\")\n",
    "    choice=int(input(\" Enter your choice here 1 or 2 :- \"))\n",
    "    seats=int(input(\" Enter no of seats here :-  \"))\n",
    "\n",
    "    if choice== 1:\n",
    "        if seats <=total_normal_seats:\n",
    "            total_amount=seats*price_normal\n",
    "            combo=(input(\" do you want more iteam Popcorn or coldrink price - 100 (Y/N):- \"))\n",
    "            if combo == \"yes\":\n",
    "                 total_amount += price_combo\n",
    "                 total_normal_seats -= seats\n",
    "            else:\n",
    "                 total_normal_seats -= seats\n",
    "        else:\n",
    "            print(\" sorry housefull available setas are \" ,total_normal_seats)\n",
    "            continue \n",
    "\n",
    "    elif choice == 2:\n",
    "        if seats <=total_vip_seats:\n",
    "            total_amount=seats*price_vip\n",
    "            combo=(input(\" do you want more iteam Popcorn or coldrink price - 100 (Y/N):- \"))\n",
    "            if combo == \"yes\":\n",
    "                 total_amount=seats*price_combo\n",
    "                 total_vip_seats -= seats\n",
    "            else:\n",
    "                 total_vip_seats -= seats\n",
    "        else:\n",
    "            print(\" sorry housefull available setas are \" ,total_vip_seats)\n",
    "            continue\n",
    "\n",
    "    else:\n",
    "        print(\" invalid choice\")\n",
    "        continue\n",
    "    print(\"#\"*40)\n",
    "    print(\" Custmer's name :- \",name)\n",
    "    print(\" Taken seats :- \",seats)\n",
    "    print(\"Your Bill:- \" ,total_amount)\n",
    "    print(\" Thanks for visit here\")\n",
    "    print(\"#\"*40)\n",
    "    print(\"#\"*40)\n",
    "    next_p=(input(\" enter next person name here ? :- (y/n) \"))\n",
    "    if next_p == \"no\":\n",
    "        break\n",
    "              \n"
   ]
  },
  {
   "cell_type": "code",
   "execution_count": null,
   "metadata": {},
   "outputs": [],
   "source": []
  }
 ],
 "metadata": {
  "kernelspec": {
   "display_name": "Python 3 (ipykernel)",
   "language": "python",
   "name": "python3"
  },
  "language_info": {
   "codemirror_mode": {
    "name": "ipython",
    "version": 3
   },
   "file_extension": ".py",
   "mimetype": "text/x-python",
   "name": "python",
   "nbconvert_exporter": "python",
   "pygments_lexer": "ipython3",
   "version": "3.11.5"
  }
 },
 "nbformat": 4,
 "nbformat_minor": 4
}
